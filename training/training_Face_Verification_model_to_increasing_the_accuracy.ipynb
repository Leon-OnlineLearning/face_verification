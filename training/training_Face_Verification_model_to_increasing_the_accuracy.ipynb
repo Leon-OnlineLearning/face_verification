{
  "nbformat": 4,
  "nbformat_minor": 0,
  "metadata": {
    "colab": {
      "name": "Retraining_Face_Verification_model_to  increasing_the_accuracy.ipynb",
      "provenance": []
    },
    "kernelspec": {
      "name": "python3",
      "display_name": "Python 3"
    },
    "language_info": {
      "name": "python"
    },
    "accelerator": "GPU"
  },
  "cells": [
    {
      "cell_type": "code",
      "metadata": {
        "id": "nK3jf-4UISVg"
      },
      "source": [
        "import tensorflow as tf\n",
        "from tensorflow import keras\n",
        "import os\n",
        "from LodingData import LodingData\n",
        "from DataGenerator import DataGenerator\n",
        "from keras.models import Sequential, Model, Input\n",
        "from keras.layers import Dense, Conv2D, Flatten, MaxPooling2D, Dropout, concatenate, Lambda, BatchNormalization\n",
        "from keras import metrics\n",
        "from tensorflow.keras.optimizers import Adam"
      ],
      "execution_count": null,
      "outputs": []
    },
    {
      "cell_type": "code",
      "metadata": {
        "colab": {
          "base_uri": "https://localhost:8080/"
        },
        "id": "CUe1lgSyJGmF",
        "outputId": "eef42f4d-5cf8-4ba5-b1ea-ea39423ec7e7"
      },
      "source": [
        "%tensorflow_version 2.x\n",
        "device_name = tf.test.gpu_device_name()\n",
        "if device_name != '/device:GPU:0':\n",
        "  raise SystemError('GPU device not found')\n",
        "print('Found GPU at: {}'.format(device_name))"
      ],
      "execution_count": null,
      "outputs": [
        {
          "output_type": "stream",
          "text": [
            "Found GPU at: /device:GPU:0\n"
          ],
          "name": "stdout"
        }
      ]
    },
    {
      "cell_type": "code",
      "metadata": {
        "colab": {
          "base_uri": "https://localhost:8080/"
        },
        "id": "nk_n7f9CJJAA",
        "outputId": "18020fb0-82f9-4a01-c877-1af595ed1248"
      },
      "source": [
        "from google.colab import drive\n",
        "drive.flush_and_unmount()"
      ],
      "execution_count": null,
      "outputs": [
        {
          "output_type": "stream",
          "text": [
            "Drive not mounted, so nothing to flush and unmount.\n"
          ],
          "name": "stdout"
        }
      ]
    },
    {
      "cell_type": "code",
      "metadata": {
        "colab": {
          "base_uri": "https://localhost:8080/"
        },
        "id": "UwVtOUHrJMlF",
        "outputId": "6bf8a01c-94e0-4363-9c7b-b0851b60eeb7"
      },
      "source": [
        "drive.mount('/content/drive')"
      ],
      "execution_count": null,
      "outputs": [
        {
          "output_type": "stream",
          "text": [
            "Mounted at /content/drive\n"
          ],
          "name": "stdout"
        }
      ]
    },
    {
      "cell_type": "code",
      "metadata": {
        "colab": {
          "base_uri": "https://localhost:8080/"
        },
        "id": "i7qy3tilJNF8",
        "outputId": "a5affec7-ab37-4ae6-ffbc-6971b67e9ad0"
      },
      "source": [
        "data_path=\"/content/drive/My Drive/Colab Notebooks/face_verification/data\"\n",
        "LodingData(data_path)"
      ],
      "execution_count": null,
      "outputs": [
        {
          "output_type": "stream",
          "text": [
            "extracting_training_images.....\n",
            "extracting_finished!\n",
            "extracting_training_images.....\n",
            "extracting_finished!\n",
            "serialization of training data finished\n",
            "serialization of validation data finished\n"
          ],
          "name": "stdout"
        },
        {
          "output_type": "execute_result",
          "data": {
            "text/plain": [
              "<LodingData.LodingData at 0x7f7e40297810>"
            ]
          },
          "metadata": {
            "tags": []
          },
          "execution_count": 18
        }
      ]
    },
    {
      "cell_type": "code",
      "metadata": {
        "colab": {
          "base_uri": "https://localhost:8080/"
        },
        "id": "FwSi4HMeKb2q",
        "outputId": "1d367dca-71cf-424a-ba01-fef8c98e5963"
      },
      "source": [
        "wights_path=r\"/content/drive/My Drive/Colab Notebooks/face_verification/code\"\n",
        "model=keras.models.load_model(os.path.join(wights_path, 'resnet50_triplet_loss_2048.h5'))\n",
        "# model.summary()"
      ],
      "execution_count": null,
      "outputs": [
        {
          "output_type": "stream",
          "text": [
            "WARNING:tensorflow:No training configuration found in the save file, so the model was *not* compiled. Compile it manually.\n"
          ],
          "name": "stdout"
        }
      ]
    },
    {
      "cell_type": "code",
      "metadata": {
        "id": "E1c7hFGyJRXj"
      },
      "source": [
        "in_anc = Input(shape=(224,224,3))\n",
        "in_pos = Input(shape=(224,224,3))\n",
        "in_neg = Input(shape=(224,224,3))\n",
        "\n",
        "em_anc = model(in_anc)\n",
        "em_pos = model(in_pos)\n",
        "em_neg = model(in_neg)\n",
        "\n",
        "out = concatenate([em_anc, em_pos, em_neg], axis=1)\n",
        "\n",
        "siamese_net = Model(\n",
        "    [in_anc, in_pos, in_neg],\n",
        "    out\n",
        ")"
      ],
      "execution_count": null,
      "outputs": []
    },
    {
      "cell_type": "code",
      "metadata": {
        "id": "c10sda8uJic4"
      },
      "source": [
        "def triplet_loss(alpha, emb_dim):\n",
        "    def loss(y_true, y_pred):\n",
        "        anc, pos, neg = y_pred[:,:emb_dim], y_pred[:,emb_dim:2*emb_dim], y_pred[:,2*emb_dim:]\n",
        "        distance1 = tf.keras.losses.cosine_similarity(anc, pos)\n",
        "        distance2 = tf.keras.losses.cosine_similarity(anc, neg)\n",
        "        return tf.keras.backend.clip(distance1 - distance2 + alpha, 0., None)\n",
        "    return loss"
      ],
      "execution_count": null,
      "outputs": []
    },
    {
      "cell_type": "code",
      "metadata": {
        "colab": {
          "base_uri": "https://localhost:8080/"
        },
        "id": "8Su0SKPZJjD-",
        "outputId": "c38b05f5-eab3-4740-849a-b5d8bf1f7541"
      },
      "source": [
        "siamese_net.compile(optimizer=Adam(lr=.0001),loss=triplet_loss(alpha=0.2, emb_dim=2048))\n",
        "\n",
        "\n",
        "\n",
        "history=siamese_net.fit(x=DataGenerator(data_path,1000,2048,True)[0][0],\n",
        "                        y=DataGenerator(data_path,1000,2048,True)[0][1],\n",
        "                    validation_data=(DataGenerator(data_path,100,2048,False)[0][0],\n",
        "                                     DataGenerator(data_path,100,2048,False)[0][1])\n",
        "                    ,epochs=50,\n",
        "                    use_multiprocessing=True,verbose=2)"
      ],
      "execution_count": null,
      "outputs": [
        {
          "output_type": "stream",
          "text": [
            "Epoch 1/50\n",
            "32/32 - 62s - loss: 0.0089 - val_loss: 0.0170\n",
            "Epoch 2/50\n",
            "32/32 - 18s - loss: 8.5480e-04 - val_loss: 0.0164\n",
            "Epoch 3/50\n",
            "32/32 - 18s - loss: 1.4877e-04 - val_loss: 0.0164\n",
            "Epoch 4/50\n",
            "32/32 - 18s - loss: 6.0105e-06 - val_loss: 0.0163\n",
            "Epoch 5/50\n",
            "32/32 - 18s - loss: 0.0000e+00 - val_loss: 0.0162\n",
            "Epoch 6/50\n",
            "32/32 - 18s - loss: 0.0000e+00 - val_loss: 0.0162\n",
            "Epoch 7/50\n",
            "32/32 - 18s - loss: 0.0000e+00 - val_loss: 0.0162\n",
            "Epoch 8/50\n",
            "32/32 - 18s - loss: 0.0000e+00 - val_loss: 0.0162\n",
            "Epoch 9/50\n",
            "32/32 - 18s - loss: 0.0000e+00 - val_loss: 0.0162\n",
            "Epoch 10/50\n",
            "32/32 - 18s - loss: 0.0000e+00 - val_loss: 0.0162\n",
            "Epoch 11/50\n",
            "32/32 - 18s - loss: 0.0000e+00 - val_loss: 0.0162\n",
            "Epoch 12/50\n",
            "32/32 - 18s - loss: 0.0000e+00 - val_loss: 0.0162\n",
            "Epoch 13/50\n",
            "32/32 - 18s - loss: 0.0000e+00 - val_loss: 0.0162\n",
            "Epoch 14/50\n",
            "32/32 - 18s - loss: 0.0000e+00 - val_loss: 0.0162\n",
            "Epoch 15/50\n",
            "32/32 - 18s - loss: 0.0000e+00 - val_loss: 0.0162\n",
            "Epoch 16/50\n",
            "32/32 - 18s - loss: 0.0000e+00 - val_loss: 0.0162\n",
            "Epoch 17/50\n",
            "32/32 - 18s - loss: 0.0000e+00 - val_loss: 0.0162\n",
            "Epoch 18/50\n",
            "32/32 - 18s - loss: 0.0000e+00 - val_loss: 0.0162\n",
            "Epoch 19/50\n",
            "32/32 - 18s - loss: 0.0000e+00 - val_loss: 0.0162\n",
            "Epoch 20/50\n",
            "32/32 - 18s - loss: 0.0000e+00 - val_loss: 0.0162\n",
            "Epoch 21/50\n",
            "32/32 - 18s - loss: 0.0000e+00 - val_loss: 0.0162\n",
            "Epoch 22/50\n",
            "32/32 - 18s - loss: 0.0000e+00 - val_loss: 0.0162\n",
            "Epoch 23/50\n",
            "32/32 - 18s - loss: 0.0000e+00 - val_loss: 0.0162\n",
            "Epoch 24/50\n",
            "32/32 - 18s - loss: 0.0000e+00 - val_loss: 0.0162\n",
            "Epoch 25/50\n",
            "32/32 - 18s - loss: 0.0000e+00 - val_loss: 0.0162\n",
            "Epoch 26/50\n",
            "32/32 - 18s - loss: 0.0000e+00 - val_loss: 0.0162\n",
            "Epoch 27/50\n",
            "32/32 - 18s - loss: 0.0000e+00 - val_loss: 0.0162\n",
            "Epoch 28/50\n",
            "32/32 - 18s - loss: 0.0000e+00 - val_loss: 0.0162\n",
            "Epoch 29/50\n",
            "32/32 - 18s - loss: 0.0000e+00 - val_loss: 0.0162\n",
            "Epoch 30/50\n",
            "32/32 - 18s - loss: 0.0000e+00 - val_loss: 0.0162\n",
            "Epoch 31/50\n",
            "32/32 - 18s - loss: 0.0000e+00 - val_loss: 0.0162\n",
            "Epoch 32/50\n",
            "32/32 - 18s - loss: 0.0000e+00 - val_loss: 0.0162\n",
            "Epoch 33/50\n",
            "32/32 - 18s - loss: 0.0000e+00 - val_loss: 0.0162\n",
            "Epoch 34/50\n",
            "32/32 - 18s - loss: 0.0000e+00 - val_loss: 0.0162\n",
            "Epoch 35/50\n",
            "32/32 - 18s - loss: 0.0000e+00 - val_loss: 0.0162\n",
            "Epoch 36/50\n",
            "32/32 - 18s - loss: 0.0000e+00 - val_loss: 0.0162\n",
            "Epoch 37/50\n",
            "32/32 - 18s - loss: 0.0000e+00 - val_loss: 0.0162\n",
            "Epoch 38/50\n",
            "32/32 - 18s - loss: 0.0000e+00 - val_loss: 0.0162\n",
            "Epoch 39/50\n",
            "32/32 - 18s - loss: 0.0000e+00 - val_loss: 0.0162\n",
            "Epoch 40/50\n",
            "32/32 - 18s - loss: 0.0000e+00 - val_loss: 0.0162\n",
            "Epoch 41/50\n",
            "32/32 - 18s - loss: 0.0000e+00 - val_loss: 0.0162\n",
            "Epoch 42/50\n",
            "32/32 - 18s - loss: 0.0000e+00 - val_loss: 0.0162\n",
            "Epoch 43/50\n",
            "32/32 - 18s - loss: 0.0000e+00 - val_loss: 0.0162\n",
            "Epoch 44/50\n",
            "32/32 - 18s - loss: 0.0000e+00 - val_loss: 0.0162\n",
            "Epoch 45/50\n",
            "32/32 - 18s - loss: 0.0000e+00 - val_loss: 0.0162\n",
            "Epoch 46/50\n",
            "32/32 - 18s - loss: 0.0000e+00 - val_loss: 0.0162\n",
            "Epoch 47/50\n",
            "32/32 - 18s - loss: 0.0000e+00 - val_loss: 0.0162\n",
            "Epoch 48/50\n",
            "32/32 - 18s - loss: 0.0000e+00 - val_loss: 0.0162\n",
            "Epoch 49/50\n",
            "32/32 - 18s - loss: 0.0000e+00 - val_loss: 0.0162\n",
            "Epoch 50/50\n",
            "32/32 - 18s - loss: 0.0000e+00 - val_loss: 0.0162\n"
          ],
          "name": "stdout"
        }
      ]
    },
    {
      "cell_type": "code",
      "metadata": {
        "id": "YgoZ-XmBKIJ0"
      },
      "source": [
        "if os.path.isfile(os.path.join(wights_path, 'new_resnet50_triplet_loss_2048.h5')) is False:\n",
        "  model.save(os.path.join(wights_path, 'new_resnet50_triplet_loss_2048.h5'))"
      ],
      "execution_count": null,
      "outputs": []
    },
    {
      "cell_type": "code",
      "metadata": {
        "colab": {
          "base_uri": "https://localhost:8080/"
        },
        "id": "_e2c4e9OKLcq",
        "outputId": "d0eda4b9-feaa-4f25-dd55-52eb4be68b93"
      },
      "source": [
        "wights_path=r\"/content/drive/My Drive/Colab Notebooks/face_verification/code\"\n",
        "model=keras.models.load_model(os.path.join(wights_path, 'new_resnet50_triplet_loss_2048.h5'))"
      ],
      "execution_count": null,
      "outputs": [
        {
          "output_type": "stream",
          "text": [
            "WARNING:tensorflow:No training configuration found in the save file, so the model was *not* compiled. Compile it manually.\n"
          ],
          "name": "stdout"
        }
      ]
    },
    {
      "cell_type": "code",
      "metadata": {
        "id": "D7X7vSVWoG3u"
      },
      "source": [
        "def is_match(known_embedding, candidate_embedding, thresh=0.5):\n",
        "\t# calculate distance between embeddings\n",
        "\tscore = cosine(known_embedding, candidate_embedding)\n",
        "\tif score <= thresh:\n",
        "\t\treturn True\n",
        "\telse:\n",
        "\t\treturn False"
      ],
      "execution_count": null,
      "outputs": []
    },
    {
      "cell_type": "code",
      "metadata": {
        "colab": {
          "base_uri": "https://localhost:8080/",
          "height": 236
        },
        "id": "rtS_NCuDnTai",
        "outputId": "843cf247-b7e1-4a3e-9cdb-76686361c04e"
      },
      "source": [
        "model.compile()\n",
        "data_path=\"/content/drive/My Drive/Colab Notebooks/face_verification/data\"\n",
        "X=DataGenerator(data_path2,1000,2048,True)[0][0]\n",
        "j=0\n",
        "for i in range(1000):\n",
        "  img1 = tf.convert_to_tensor(cv2.resize(X[0][i],(224,224)))\n",
        "  img2 = tf.convert_to_tensor(cv2.resize(X[1][i],(224,224)))\n",
        "  img3 = tf.convert_to_tensor(cv2.resize(X[2][i],(224,224)))\n",
        "  y1=model.predict(np.expand_dims(img1, axis=0))\n",
        "  y2=model.predict(np.expand_dims(img2, axis=0))\n",
        "  y3=model.predict(np.expand_dims(img3, axis=0))\n",
        "  if is_match(y1,y2):\n",
        "    j+=1\n",
        "  if not is_match(y2,y3):\n",
        "    j+=1\n",
        "  if not is_match(y1,y3):\n",
        "    j+=1\n",
        "print(j)\n",
        "accuracy=(j/3000)*100\n",
        "print(accuracy)\n"
      ],
      "execution_count": null,
      "outputs": [
        {
          "output_type": "error",
          "ename": "NameError",
          "evalue": "ignored",
          "traceback": [
            "\u001b[0;31m---------------------------------------------------------------------------\u001b[0m",
            "\u001b[0;31mNameError\u001b[0m                                 Traceback (most recent call last)",
            "\u001b[0;32m<ipython-input-16-75f9b4e7d608>\u001b[0m in \u001b[0;36m<module>\u001b[0;34m()\u001b[0m\n\u001b[1;32m      1\u001b[0m \u001b[0mmodel\u001b[0m\u001b[0;34m.\u001b[0m\u001b[0mcompile\u001b[0m\u001b[0;34m(\u001b[0m\u001b[0;34m)\u001b[0m\u001b[0;34m\u001b[0m\u001b[0;34m\u001b[0m\u001b[0m\n\u001b[1;32m      2\u001b[0m \u001b[0mdata_path\u001b[0m\u001b[0;34m=\u001b[0m\u001b[0;34m\"/content/drive/My Drive/Colab Notebooks/face_verification/data\"\u001b[0m\u001b[0;34m\u001b[0m\u001b[0;34m\u001b[0m\u001b[0m\n\u001b[0;32m----> 3\u001b[0;31m \u001b[0mX\u001b[0m\u001b[0;34m=\u001b[0m\u001b[0mDataGenerator\u001b[0m\u001b[0;34m(\u001b[0m\u001b[0mdata_path2\u001b[0m\u001b[0;34m,\u001b[0m\u001b[0;36m1000\u001b[0m\u001b[0;34m,\u001b[0m\u001b[0;36m2048\u001b[0m\u001b[0;34m,\u001b[0m\u001b[0;32mTrue\u001b[0m\u001b[0;34m)\u001b[0m\u001b[0;34m[\u001b[0m\u001b[0;36m0\u001b[0m\u001b[0;34m]\u001b[0m\u001b[0;34m[\u001b[0m\u001b[0;36m0\u001b[0m\u001b[0;34m]\u001b[0m\u001b[0;34m\u001b[0m\u001b[0;34m\u001b[0m\u001b[0m\n\u001b[0m\u001b[1;32m      4\u001b[0m \u001b[0mj\u001b[0m\u001b[0;34m=\u001b[0m\u001b[0;36m0\u001b[0m\u001b[0;34m\u001b[0m\u001b[0;34m\u001b[0m\u001b[0m\n\u001b[1;32m      5\u001b[0m \u001b[0;32mfor\u001b[0m \u001b[0mi\u001b[0m \u001b[0;32min\u001b[0m \u001b[0mrange\u001b[0m\u001b[0;34m(\u001b[0m\u001b[0;36m1000\u001b[0m\u001b[0;34m)\u001b[0m\u001b[0;34m:\u001b[0m\u001b[0;34m\u001b[0m\u001b[0;34m\u001b[0m\u001b[0m\n",
            "\u001b[0;31mNameError\u001b[0m: name 'data_path2' is not defined"
          ]
        }
      ]
    }
  ]
}